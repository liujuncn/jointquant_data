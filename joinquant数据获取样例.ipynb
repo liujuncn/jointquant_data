{
 "cells": [
  {
   "cell_type": "code",
   "execution_count": null,
   "metadata": {},
   "outputs": [],
   "source": [
    "all = get_all_securities()\n",
    "sec_list = all.index.values.tolist()\n",
    "\n",
    "start = '2015-01-01'\n",
    "end = '2019-06-25'\n",
    "panel = get_price(sec_list, start_date=start, end_date=end, fields=['close'])\n",
    "df = panel['close']\n",
    "df.to_pickle('2015-2019_close.pkl')\n",
    "\n",
    "panel = get_price(sec_list, start_date=start, end_date=end, fields=['money'])\n",
    "df = panel['money']\n",
    "df.to_pickle('2015-2019_turnover_val.pkl')\n",
    "\n",
    "panel = get_price(sec_list, start_date=start, end_date=end, fields=['volume'])\n",
    "df = panel['volume']\n",
    "df.to_pickle('2015-2019_volume.pkl')\n",
    "\n",
    "panel = get_price(sec_list, start_date=start, end_date=end, fields=['paused'])\n",
    "df = panel['paused']\n",
    "df.to_pickle('2015-2019_paused.pkl')\n",
    "\n",
    "df = get_extras('is_st', sec_list, start_date=start, end_date=end)\n",
    "df.to_pickle('2015-2019_is_st.pkl')"
   ]
  }
 ],
 "metadata": {
  "kernelspec": {
   "display_name": "Python 3",
   "language": "python",
   "name": "python3"
  },
  "language_info": {
   "codemirror_mode": {
    "name": "ipython",
    "version": 3
   },
   "file_extension": ".py",
   "mimetype": "text/x-python",
   "name": "python",
   "nbconvert_exporter": "python",
   "pygments_lexer": "ipython3",
   "version": "3.6.7"
  }
 },
 "nbformat": 4,
 "nbformat_minor": 2
}
